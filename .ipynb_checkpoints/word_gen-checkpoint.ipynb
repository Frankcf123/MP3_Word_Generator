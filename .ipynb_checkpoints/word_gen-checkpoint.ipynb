{
 "cells": [
  {
   "cell_type": "code",
   "execution_count": 53,
   "metadata": {
    "collapsed": true
   },
   "outputs": [],
   "source": [
    "from pydub import AudioSegment\n",
    "import numpy as np\n",
    "\n"
   ]
  },
  {
   "cell_type": "code",
   "execution_count": 54,
   "metadata": {
    "collapsed": true
   },
   "outputs": [],
   "source": [
    "#Parameters"
   ]
  },
  {
   "cell_type": "code",
   "execution_count": 55,
   "metadata": {
    "collapsed": true
   },
   "outputs": [],
   "source": [
    "slient_duration=500 # two seconds\n",
    "target_folder=\"Target/\"\n",
    "target_file=\"word1-35new.mp3\"\n",
    "audio_folder=\"words/\"\n"
   ]
  },
  {
   "cell_type": "code",
   "execution_count": 56,
   "metadata": {
    "collapsed": true
   },
   "outputs": [],
   "source": [
    "#Word list process"
   ]
  },
  {
   "cell_type": "code",
   "execution_count": 57,
   "metadata": {},
   "outputs": [
    {
     "name": "stdout",
     "output_type": "stream",
     "text": [
      "['fill' 'cent' 'epoch' 'site' 'echo' 'hall' 'bright' 'borrow' 'composition'\n",
      " 'cape' 'pedestrian' 'colossal' 'muscular' 'tube' 'wing' 'wolf' 'inference'\n",
      " 'strip' 'clay' 'thaw' 'groom' 'gotta' 'sack' 'twinkle' 'pigment' 'equator'\n",
      " 'haven' 'pulse' 'fidelity' 'beneath' 'opaque' 'mild' 'pump' 'emit' 'mold'\n",
      " 'squeal' 'elf' 'grad' 'prayer' 'stony' 'mouthful' 'barn' 'soak' 'crucial'\n",
      " 'lamp' 'erect' 'hood' 'cargo' 'heyday' 'ranch' 'clip' 'respiration' 'hind'\n",
      " 'tide' 'coil' 'ladder' 'tidy' 'bulletin' 'ivory' 'playwright' 'shoelace'\n",
      " 'stake' 'puddle' 'rarity' 'rider' 'satire' 'immortal' 'perspire' 'violet'\n",
      " 'craze' 'dwelling' 'scary' 'bleak' 'thickly' 'axis' 'flame' 'monumental'\n",
      " 'basel' 'endowment' 'herd' 'thickness' 'soot' 'marble' 'desolate' 'streak'\n",
      " 'boast' 'patch' 'quill' 'scrape']\n"
     ]
    }
   ],
   "source": [
    "word_list=np.genfromtxt(\"wordlist.txt\",delimiter=\",\", dtype='U')\n",
    "print(word_list)"
   ]
  },
  {
   "cell_type": "code",
   "execution_count": 58,
   "metadata": {
    "collapsed": true
   },
   "outputs": [],
   "source": [
    "#music output process"
   ]
  },
  {
   "cell_type": "code",
   "execution_count": 59,
   "metadata": {},
   "outputs": [],
   "source": [
    "slient=AudioSegment.silent(duration=slient_duration)\n",
    "song=slient\n",
    "target=target_folder+target_file\n",
    "for word in word_list:\n",
    "    \n",
    "    file_path=audio_folder+word.strip()+\".mp3\"\n",
    "    audio_song= AudioSegment.from_file(file_path)\n",
    "    song =song + audio_song+slient\n"
   ]
  },
  {
   "cell_type": "code",
   "execution_count": 60,
   "metadata": {},
   "outputs": [
    {
     "data": {
      "text/plain": [
       "<_io.BufferedRandom name='Target/word1-35new.mp3'>"
      ]
     },
     "execution_count": 60,
     "metadata": {},
     "output_type": "execute_result"
    }
   ],
   "source": [
    "song.export(target, format=\"mp3\")"
   ]
  },
  {
   "cell_type": "code",
   "execution_count": null,
   "metadata": {
    "collapsed": true
   },
   "outputs": [],
   "source": []
  },
  {
   "cell_type": "code",
   "execution_count": null,
   "metadata": {
    "collapsed": true
   },
   "outputs": [],
   "source": []
  }
 ],
 "metadata": {
  "kernelspec": {
   "display_name": "Python 3",
   "language": "python",
   "name": "python3"
  },
  "language_info": {
   "codemirror_mode": {
    "name": "ipython",
    "version": 3
   },
   "file_extension": ".py",
   "mimetype": "text/x-python",
   "name": "python",
   "nbconvert_exporter": "python",
   "pygments_lexer": "ipython3",
   "version": "3.6.0"
  }
 },
 "nbformat": 4,
 "nbformat_minor": 2
}
